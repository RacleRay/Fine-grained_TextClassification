{
 "cells": [
  {
   "cell_type": "code",
   "execution_count": 1,
   "metadata": {
    "ExecuteTime": {
     "end_time": "2020-07-01T13:09:09.290231Z",
     "start_time": "2020-07-01T13:09:06.064958Z"
    }
   },
   "outputs": [],
   "source": [
    "import fasttext\n",
    "import re  #正则表达式\n",
    "import pandas as pd"
   ]
  },
  {
   "cell_type": "code",
   "execution_count": 3,
   "metadata": {
    "ExecuteTime": {
     "end_time": "2020-07-01T13:09:17.340193Z",
     "start_time": "2020-07-01T13:09:15.315306Z"
    }
   },
   "outputs": [],
   "source": [
    "train = pd.read_table('data/train.tsv', names=['label', 'content'], encoding='utf-8')\n",
    "# train.head(5)"
   ]
  },
  {
   "cell_type": "code",
   "execution_count": 4,
   "metadata": {
    "ExecuteTime": {
     "end_time": "2020-07-01T13:09:17.909850Z",
     "start_time": "2020-07-01T13:09:17.473766Z"
    }
   },
   "outputs": [],
   "source": [
    "valid = pd.read_table('data/val.tsv', names=['label', 'content'], encoding='utf-8')"
   ]
  },
  {
   "cell_type": "code",
   "execution_count": 5,
   "metadata": {
    "ExecuteTime": {
     "end_time": "2020-07-01T13:09:28.575449Z",
     "start_time": "2020-07-01T13:09:28.569482Z"
    }
   },
   "outputs": [],
   "source": [
    "def label_string(label):\n",
    "    labs = ''\n",
    "    for lab in label.split('@'):\n",
    "        labs += \"\\t__label__\" + str(lab)\n",
    "    return labs\n",
    "\n",
    "\n",
    "def single_label_string(label, idx):\n",
    "    \"idx: 0 - 19\"\n",
    "    return \"\\t__label__\" + str(label.split('@')[idx])"
   ]
  },
  {
   "cell_type": "code",
   "execution_count": 11,
   "metadata": {
    "ExecuteTime": {
     "end_time": "2020-07-01T13:19:44.867399Z",
     "start_time": "2020-07-01T13:19:44.859399Z"
    }
   },
   "outputs": [],
   "source": [
    "def to_file(file, x, y, label_func):\n",
    "    \n",
    "    for i, line in enumerate(x):\n",
    "        outline = line + label_func(y[i]) + \"\\n\"\n",
    "        file.write(outline)\n",
    "        if i % 30000 == 0:\n",
    "            print(outline)\n",
    "    file.close()"
   ]
  },
  {
   "cell_type": "code",
   "execution_count": null,
   "metadata": {},
   "outputs": [],
   "source": []
  },
  {
   "cell_type": "markdown",
   "metadata": {},
   "source": [
    "### 效果一般方式：20种标签联合多分类"
   ]
  },
  {
   "cell_type": "code",
   "execution_count": 12,
   "metadata": {
    "ExecuteTime": {
     "end_time": "2020-07-01T13:19:51.352748Z",
     "start_time": "2020-07-01T13:19:46.824726Z"
    }
   },
   "outputs": [
    {
     "name": "stdout",
     "output_type": "stream",
     "text": [
      "吼吼吼～萌死人的棒棒糖～中了大众点评的霸王餐～太可爱了。一直就好奇这个棒棒糖是怎么个东西～大众点评给了我这个土老冒一个见识的机会。看介绍棒棒糖是用德国糖做的～不会很甜～中间的照片是糯米的～能食用～真是太高端大气上档次了～还可以买蝴蝶结扎口～送人可以买礼盒。我是先打的卖家电话～加了微信～给卖家传的照片。等了几天～卖家就告诉我可以取货了～去大官屯那取的。虽然连卖家的面都没见到～但是还是谢谢卖家送我这么可爱的东西～太喜欢了～这哪舍得吃啊。\t__label__0_-2\t__label__1_-2\t__label__2_-2\t__label__3_-2\t__label__4_1\t__label__5_-2\t__label__6_-2\t__label__7_-2\t__label__8_-2\t__label__9_1\t__label__10_-2\t__label__11_-2\t__label__12_-2\t__label__13_-2\t__label__14_-2\t__label__15_-2\t__label__16_1\t__label__17_-2\t__label__18_1\t__label__19_-2\n",
      "\n",
      "一直很喜欢这家的pasta～以前都是在美罗城楼下吃的～感觉都很好还一直和别人推荐～周日下雨和老公本来想去太兴的没想到关门就到镰仓了～这里地方还算比较大～一进去浓浓的奶香味很舒服～坐下来开始点单～新品出来还比较多～不过还是点了pasta。畅食的面包必须点单后才给你上ok没问题～我点了脆虾番茄奶油意面52元～虾大概有6-8个还算可以～不过意面不多～最重要的是这里的意面能叫意面吗？烂的比烂糊面还烂～加上烧的浓稠的的酱汁要死了就是一坨面粉～完全没有口味可言～老公点的扇贝配鲑鱼意面也是如此～面条都糊了～受不了～吃完胃就不舒服了。熏鲑鱼色拉还可以酱料调配的比较爽口。畅食的面包真的没有以前好吃了～以前的羊角面包都是现烤热腾腾的～现在很多都是一起上～虽然味道还不错但是口感没有刚出炉的那么酥脆了。看来以后老公是不会再来了。\t__label__0_-2\t__label__1_-2\t__label__2_-2\t__label__3_-2\t__label__4_-2\t__label__5_-2\t__label__6_-2\t__label__7_0\t__label__8_-2\t__label__9_-2\t__label__10_-2\t__label__11_-2\t__label__12_1\t__label__13_-2\t__label__14_0\t__label__15_-1\t__label__16_-1\t__label__17_-2\t__label__18_-1\t__label__19_-1\n",
      "\n",
      "本人上周参加了婚宴！灯光效果非常不错～做的挺用心。服务员态度比较谦和～也挺任劳任怨的～一个个东跑西癫都累出汗了～看着俺都心疼啊。用于闹肚子～喝点白酒也没吃菜～不过听老婆说个个菜做的超棒～非得中秋节拉着我去尝尝果木烤鸭和杏鲍菇。以后想吃海鲜就去奧帆号了～海鲜厨房嘛高端的装修～可口的大众亲民的价格。还有好多帅哥美女免费服务哟～唯一美中不足的地方就是院子里的停车场有点小～放30多个车就快没地方了～得提前点过去抢个车位再说～哈哈\t__label__0_-2\t__label__1_-2\t__label__2_-2\t__label__3_-2\t__label__4_1\t__label__5_0\t__label__6_-2\t__label__7_0\t__label__8_-2\t__label__9_-2\t__label__10_1\t__label__11_-2\t__label__12_-2\t__label__13_-2\t__label__14_-2\t__label__15_1\t__label__16_-2\t__label__17_-2\t__label__18_1\t__label__19_1\n",
      "\n",
      "一～地理位置：谢家湾万象城5楼～溜冰场上面。二～服务：店铺不大～干净整洁。服务态度不咸不淡的～9积分兑换的～也可以理解三～食品：有一句话真的很对—不作死就不会死。本来不喜欢喝茶～但作为吃货～没尝过黑龙茶～觉得还是有点介意。刚好有9积分～就鼓起勇气尝试一下。要的常温的红茶～想到热量问题～少糖～也没有加配料。然后就悲剧了～茶很大一杯～但是苦呀～什么伯爵红茶～我都感觉不出来了～又不是单独泡的～也没有什么茶香味。实在是没办法～苦的喝了几口就喝不下去了。可能多加糖和布丁之类的配料会好很多吧～不过份量的确很大一杯\t__label__0_-2\t__label__1_1\t__label__2_-2\t__label__3_-2\t__label__4_0\t__label__5_-2\t__label__6_-2\t__label__7_-2\t__label__8_-2\t__label__9_1\t__label__10_-2\t__label__11_-2\t__label__12_0\t__label__13_1\t__label__14_1\t__label__15_-1\t__label__16_-2\t__label__17_-2\t__label__18_0\t__label__19_-2\n",
      "\n",
      "哎～想当年来佘山的时候～啥都没有～三品香算镇上最大看起来最像样的饭店了。菜品多～有点太多～感觉啥都有～杂都不足以形容。随便点些～居然口味什么的都好还可以～价钱自然是便宜当震惊。元宝虾和椒盐九肚鱼都不错吃。不过近来几次么～味道明显没以前好了。冷餐里面一个凉拌海带丝还可以～酸酸甜甜的。镇上也有了些别的大点的饭店～所以不是每次必来了。对了～这家的生意一如既往的超级好～不定位基本吃不到。不过佘山这边的人吃晚饭很早的～所以稍微晚点去就很空了。\t__label__0_-2\t__label__1_-2\t__label__2_-2\t__label__3_0\t__label__4_-2\t__label__5_-2\t__label__6_-2\t__label__7_1\t__label__8_-2\t__label__9_-2\t__label__10_-2\t__label__11_-2\t__label__12_-2\t__label__13_-2\t__label__14_-2\t__label__15_0\t__label__16_-2\t__label__17_-2\t__label__18_1\t__label__19_0\n",
      "\n"
     ]
    }
   ],
   "source": [
    "ftrain = open(\"data/sentiment_train.txt\", \"w\", encoding='utf-8')\n",
    "ftest = open(\"data/sentiment_test.txt\", \"w\", encoding='utf-8')\n",
    "\n",
    "to_file(ftrain, train.content, train.label, label_string)\n",
    "to_file(ftest, valid.content, valid.label, label_string)"
   ]
  },
  {
   "cell_type": "code",
   "execution_count": 8,
   "metadata": {
    "ExecuteTime": {
     "end_time": "2020-07-01T13:10:48.654822Z",
     "start_time": "2020-07-01T13:10:48.638788Z"
    }
   },
   "outputs": [],
   "source": [
    "from fasttext import train_supervised"
   ]
  },
  {
   "cell_type": "code",
   "execution_count": 28,
   "metadata": {
    "ExecuteTime": {
     "end_time": "2020-07-01T13:41:32.210714Z",
     "start_time": "2020-07-01T13:38:22.356546Z"
    }
   },
   "outputs": [],
   "source": [
    "model = train_supervised(\n",
    "    input=\"data/sentiment_train.txt\",\n",
    "    epoch=50,\n",
    "    lr=0.2,\n",
    "    dim=300,\n",
    "    loss='ova',\n",
    "    wordNgrams=2,\n",
    "    verbose=1,\n",
    "    minCount=1)"
   ]
  },
  {
   "cell_type": "code",
   "execution_count": 29,
   "metadata": {
    "ExecuteTime": {
     "end_time": "2020-07-01T13:41:45.406157Z",
     "start_time": "2020-07-01T13:41:45.394157Z"
    }
   },
   "outputs": [],
   "source": [
    "def print_results(N, p, r):\n",
    "    print(\"N\\t\" + str(N))\n",
    "    print(\"P@{}\\t{:.3f}\".format(1, p))\n",
    "    print(\"R@{}\\t{:.3f}\".format(1, r))\n",
    "    print(\"f1@ \\t {:.3f}\".format(2 * p * r / (p + r)))"
   ]
  },
  {
   "cell_type": "code",
   "execution_count": 32,
   "metadata": {
    "ExecuteTime": {
     "end_time": "2020-07-01T13:44:35.386412Z",
     "start_time": "2020-07-01T13:44:34.643882Z"
    }
   },
   "outputs": [
    {
     "name": "stdout",
     "output_type": "stream",
     "text": [
      "N\t15000\n",
      "P@1\t0.679\n",
      "R@1\t0.679\n",
      "f1@ \t 0.679\n"
     ]
    }
   ],
   "source": [
    "# ova loss\n",
    "print_results(*model.test(\"data/sentiment_test.txt\", k=20))"
   ]
  },
  {
   "cell_type": "code",
   "execution_count": 27,
   "metadata": {
    "ExecuteTime": {
     "end_time": "2020-07-01T13:37:24.397825Z",
     "start_time": "2020-07-01T13:37:23.682948Z"
    }
   },
   "outputs": [
    {
     "name": "stdout",
     "output_type": "stream",
     "text": [
      "N\t15000\n",
      "P@1\t0.683\n",
      "R@1\t0.683\n",
      "f1@ \t 0.683\n"
     ]
    }
   ],
   "source": [
    "# softmax loss\n",
    "print_results(*model.test(\"data/sentiment_test.txt\", k=20))"
   ]
  },
  {
   "cell_type": "code",
   "execution_count": 48,
   "metadata": {
    "ExecuteTime": {
     "end_time": "2020-07-01T14:23:40.577485Z",
     "start_time": "2020-07-01T14:23:40.564487Z"
    }
   },
   "outputs": [],
   "source": [
    "del model"
   ]
  },
  {
   "cell_type": "code",
   "execution_count": null,
   "metadata": {},
   "outputs": [],
   "source": []
  },
  {
   "cell_type": "markdown",
   "metadata": {},
   "source": [
    "### 每种标签分开计算"
   ]
  },
  {
   "cell_type": "code",
   "execution_count": 34,
   "metadata": {
    "ExecuteTime": {
     "end_time": "2020-07-01T13:51:52.701045Z",
     "start_time": "2020-07-01T13:51:52.681047Z"
    }
   },
   "outputs": [
    {
     "name": "stdout",
     "output_type": "stream",
     "text": [
      "['location_traffic_convenience\\n', 'location_distance_from_business_district\\n', 'location_easy_to_find\\n', 'service_wait_time\\n', 'service_waiters_attitude\\n', 'service_parking_convenience\\n', 'service_serving_speed\\n', 'price_level\\n', 'price_cost_effective\\n', 'price_discount\\n', 'environment_decoration\\n', 'environment_noise\\n', 'environment_space\\n', 'environment_cleaness\\n', 'dish_portion\\n', 'dish_taste\\n', 'dish_look\\n', 'dish_recommendation\\n', 'others_overall_experience\\n', 'others_willing_to_consume_again\\n']\n"
     ]
    }
   ],
   "source": [
    "with open('labels.txt',  'r', encoding='utf-8') as f:\n",
    "    labels = f.readlines()\n",
    "    \n",
    "print(labels)\n",
    "\n",
    "# def process_label(pandas_df):\n",
    "#     pandas_df = pd.concat([pandas_df, pd.DataFrame(columns=[i for i in range(20)])])\n",
    "#     for idx, row in pandas_df.iterrows():\n",
    "#         label = row.label.split('@')\n",
    "#         for i, la in enumerate(label):\n",
    "#             row[i] = la\n",
    "#     return pandas_df\n",
    "\n",
    "# train_pro = process_label(train)\n",
    "\n",
    "# valid_pro = process_label(valid)"
   ]
  },
  {
   "cell_type": "code",
   "execution_count": null,
   "metadata": {},
   "outputs": [],
   "source": []
  },
  {
   "cell_type": "markdown",
   "metadata": {},
   "source": [
    "- preprocessing the data ;\n",
    "- changing the number of epochs (using the option -epoch, standard range [5 - 50]) ;\n",
    "- changing the learning rate (using the option -lr, standard range [0.1 - 1.0]) ;\n",
    "- using word n-grams (using the option -wordNgrams, standard range [1 - 5])."
   ]
  },
  {
   "cell_type": "markdown",
   "metadata": {},
   "source": [
    "https://fasttext.cc/docs/en/python-module.html#api\n"
   ]
  },
  {
   "cell_type": "code",
   "execution_count": 44,
   "metadata": {
    "ExecuteTime": {
     "end_time": "2020-07-01T14:19:54.047371Z",
     "start_time": "2020-07-01T14:19:54.040400Z"
    }
   },
   "outputs": [],
   "source": [
    "from fasttext import train_supervised\n",
    "\n",
    "\n",
    "def print_results(N, p, r):\n",
    "    print(\"N\\t\" + str(N))\n",
    "    print(\"P@{}\\t{:.3f}\".format(1, p))\n",
    "    print(\"R@{}\\t{:.3f}\".format(1, r))\n",
    "    print(\"f1@ \\t {:.3f}\".format(2 * p * r / (p + r)))"
   ]
  },
  {
   "cell_type": "code",
   "execution_count": null,
   "metadata": {},
   "outputs": [],
   "source": []
  },
  {
   "cell_type": "code",
   "execution_count": 45,
   "metadata": {
    "ExecuteTime": {
     "end_time": "2020-07-01T14:21:37.293869Z",
     "start_time": "2020-07-01T14:21:37.285836Z"
    }
   },
   "outputs": [],
   "source": [
    "def gen_train_file(label_idx):\n",
    "    ftrain = open(f\"data/sentiment_train_{label_idx}.txt\", \"w\", encoding='utf-8')\n",
    "    ftest = open(f\"data/sentiment_test_{label_idx}.txt\", \"w\", encoding='utf-8')\n",
    "\n",
    "    to_file(ftrain, train.content, train.label, lambda label: single_label_string(label, label_idx))\n",
    "    to_file(ftest, valid.content, valid.label, lambda label: single_label_string(label, label_idx))"
   ]
  },
  {
   "cell_type": "code",
   "execution_count": 47,
   "metadata": {
    "ExecuteTime": {
     "end_time": "2020-07-01T14:22:26.997797Z",
     "start_time": "2020-07-01T14:22:18.611793Z"
    }
   },
   "outputs": [
    {
     "name": "stdout",
     "output_type": "stream",
     "text": [
      "吼吼吼～萌死人的棒棒糖～中了大众点评的霸王餐～太可爱了。一直就好奇这个棒棒糖是怎么个东西～大众点评给了我这个土老冒一个见识的机会。看介绍棒棒糖是用德国糖做的～不会很甜～中间的照片是糯米的～能食用～真是太高端大气上档次了～还可以买蝴蝶结扎口～送人可以买礼盒。我是先打的卖家电话～加了微信～给卖家传的照片。等了几天～卖家就告诉我可以取货了～去大官屯那取的。虽然连卖家的面都没见到～但是还是谢谢卖家送我这么可爱的东西～太喜欢了～这哪舍得吃啊。\t__label__1_-2\n",
      "\n",
      "一直很喜欢这家的pasta～以前都是在美罗城楼下吃的～感觉都很好还一直和别人推荐～周日下雨和老公本来想去太兴的没想到关门就到镰仓了～这里地方还算比较大～一进去浓浓的奶香味很舒服～坐下来开始点单～新品出来还比较多～不过还是点了pasta。畅食的面包必须点单后才给你上ok没问题～我点了脆虾番茄奶油意面52元～虾大概有6-8个还算可以～不过意面不多～最重要的是这里的意面能叫意面吗？烂的比烂糊面还烂～加上烧的浓稠的的酱汁要死了就是一坨面粉～完全没有口味可言～老公点的扇贝配鲑鱼意面也是如此～面条都糊了～受不了～吃完胃就不舒服了。熏鲑鱼色拉还可以酱料调配的比较爽口。畅食的面包真的没有以前好吃了～以前的羊角面包都是现烤热腾腾的～现在很多都是一起上～虽然味道还不错但是口感没有刚出炉的那么酥脆了。看来以后老公是不会再来了。\t__label__1_-2\n",
      "\n",
      "本人上周参加了婚宴！灯光效果非常不错～做的挺用心。服务员态度比较谦和～也挺任劳任怨的～一个个东跑西癫都累出汗了～看着俺都心疼啊。用于闹肚子～喝点白酒也没吃菜～不过听老婆说个个菜做的超棒～非得中秋节拉着我去尝尝果木烤鸭和杏鲍菇。以后想吃海鲜就去奧帆号了～海鲜厨房嘛高端的装修～可口的大众亲民的价格。还有好多帅哥美女免费服务哟～唯一美中不足的地方就是院子里的停车场有点小～放30多个车就快没地方了～得提前点过去抢个车位再说～哈哈\t__label__1_-2\n",
      "\n",
      "一～地理位置：谢家湾万象城5楼～溜冰场上面。二～服务：店铺不大～干净整洁。服务态度不咸不淡的～9积分兑换的～也可以理解三～食品：有一句话真的很对—不作死就不会死。本来不喜欢喝茶～但作为吃货～没尝过黑龙茶～觉得还是有点介意。刚好有9积分～就鼓起勇气尝试一下。要的常温的红茶～想到热量问题～少糖～也没有加配料。然后就悲剧了～茶很大一杯～但是苦呀～什么伯爵红茶～我都感觉不出来了～又不是单独泡的～也没有什么茶香味。实在是没办法～苦的喝了几口就喝不下去了。可能多加糖和布丁之类的配料会好很多吧～不过份量的确很大一杯\t__label__1_1\n",
      "\n",
      "哎～想当年来佘山的时候～啥都没有～三品香算镇上最大看起来最像样的饭店了。菜品多～有点太多～感觉啥都有～杂都不足以形容。随便点些～居然口味什么的都好还可以～价钱自然是便宜当震惊。元宝虾和椒盐九肚鱼都不错吃。不过近来几次么～味道明显没以前好了。冷餐里面一个凉拌海带丝还可以～酸酸甜甜的。镇上也有了些别的大点的饭店～所以不是每次必来了。对了～这家的生意一如既往的超级好～不定位基本吃不到。不过佘山这边的人吃晚饭很早的～所以稍微晚点去就很空了。\t__label__1_-2\n",
      "\n"
     ]
    }
   ],
   "source": [
    "gen_train_file(1)"
   ]
  },
  {
   "cell_type": "code",
   "execution_count": 52,
   "metadata": {
    "ExecuteTime": {
     "end_time": "2020-07-01T14:25:37.727734Z",
     "start_time": "2020-07-01T14:25:37.723791Z"
    }
   },
   "outputs": [],
   "source": [
    "def train_label(idx):\n",
    "    model = train_supervised(\n",
    "        input=f\"data/sentiment_train_{idx}.txt\",\n",
    "        epoch=50,\n",
    "        lr=0.5,\n",
    "        dim=100,\n",
    "        loss='softmax',\n",
    "        wordNgrams=2,\n",
    "        verbose=1,\n",
    "        minCount=1)\n",
    "    return model"
   ]
  },
  {
   "cell_type": "code",
   "execution_count": 53,
   "metadata": {
    "ExecuteTime": {
     "end_time": "2020-07-01T14:26:02.842179Z",
     "start_time": "2020-07-01T14:25:38.091841Z"
    }
   },
   "outputs": [],
   "source": [
    "model_1 = train_label(1)"
   ]
  },
  {
   "cell_type": "code",
   "execution_count": 56,
   "metadata": {
    "ExecuteTime": {
     "end_time": "2020-07-01T14:29:37.186776Z",
     "start_time": "2020-07-01T14:29:36.980634Z"
    }
   },
   "outputs": [
    {
     "name": "stdout",
     "output_type": "stream",
     "text": [
      "N\t15000\n",
      "P@1\t0.796\n",
      "R@1\t0.796\n",
      "f1@ \t 0.796\n"
     ]
    }
   ],
   "source": [
    "print_results(*model_1.test('data/sentiment_test_1.txt'))"
   ]
  },
  {
   "cell_type": "code",
   "execution_count": 58,
   "metadata": {
    "ExecuteTime": {
     "end_time": "2020-07-01T14:31:56.167084Z",
     "start_time": "2020-07-01T14:31:56.156742Z"
    }
   },
   "outputs": [],
   "source": [
    "del model_1"
   ]
  },
  {
   "cell_type": "code",
   "execution_count": null,
   "metadata": {},
   "outputs": [],
   "source": []
  },
  {
   "cell_type": "markdown",
   "metadata": {},
   "source": [
    "### 超参数搜索模型"
   ]
  },
  {
   "cell_type": "code",
   "execution_count": 60,
   "metadata": {
    "ExecuteTime": {
     "end_time": "2020-07-01T14:32:29.675309Z",
     "start_time": "2020-07-01T14:32:29.668341Z"
    }
   },
   "outputs": [],
   "source": [
    "# hyperparameter optimization\n",
    "# 最优模型超大\n",
    "\n",
    "def search(idx):\n",
    "    model = train_supervised(input=f\"data/sentiment_train_{idx}.txt\", \n",
    "                                             autotuneValidationFile=f\"data/sentiment_test_{idx}.txt\",\n",
    "                                             autotuneMetric=\"f1\",\n",
    "                                             autotuneDuration=600,\n",
    "                                             verbose=0)\n",
    "    return model"
   ]
  },
  {
   "cell_type": "code",
   "execution_count": 57,
   "metadata": {
    "ExecuteTime": {
     "end_time": "2020-07-01T14:31:13.676988Z",
     "start_time": "2020-07-01T14:31:13.668997Z"
    }
   },
   "outputs": [],
   "source": [
    "def test_model(idx):\n",
    "    print_results(*model.test(f\"data/sentiment_test_{idx}.txt\"))"
   ]
  },
  {
   "cell_type": "code",
   "execution_count": null,
   "metadata": {
    "ExecuteTime": {
     "start_time": "2020-07-01T14:32:33.235Z"
    }
   },
   "outputs": [],
   "source": [
    "model_1 = search(1)"
   ]
  },
  {
   "cell_type": "code",
   "execution_count": null,
   "metadata": {},
   "outputs": [],
   "source": []
  },
  {
   "cell_type": "code",
   "execution_count": null,
   "metadata": {},
   "outputs": [],
   "source": []
  },
  {
   "cell_type": "code",
   "execution_count": 1,
   "metadata": {
    "ExecuteTime": {
     "end_time": "2020-07-02T13:55:04.492632Z",
     "start_time": "2020-07-02T13:55:04.482319Z"
    }
   },
   "outputs": [
    {
     "name": "stdout",
     "output_type": "stream",
     "text": [
      "0.8333333333333334\n"
     ]
    }
   ],
   "source": [
    "tp = 100\n",
    "fp = 20\n",
    "tn = 100\n",
    "fn = 20\n",
    "\n",
    "p = tp / (tp + fp)\n",
    "r = tp / (tp + fn)\n",
    "\n",
    "f1 = 2 * p * r / (p + r)\n",
    "\n",
    "print(f1)"
   ]
  },
  {
   "cell_type": "code",
   "execution_count": 5,
   "metadata": {
    "ExecuteTime": {
     "end_time": "2020-07-02T13:56:35.597451Z",
     "start_time": "2020-07-02T13:56:35.592392Z"
    }
   },
   "outputs": [
    {
     "name": "stdout",
     "output_type": "stream",
     "text": [
      "0.5882352941176471\n"
     ]
    }
   ],
   "source": [
    "tp = 10\n",
    "fp = 7\n",
    "tn = 10\n",
    "fn = 7\n",
    "\n",
    "p = tp / (tp + fp)\n",
    "r = tp / (tp + fn)\n",
    "\n",
    "f1 = 2 * p * r / (p + r)\n",
    "\n",
    "print(f1)"
   ]
  },
  {
   "cell_type": "code",
   "execution_count": null,
   "metadata": {},
   "outputs": [],
   "source": []
  }
 ],
 "metadata": {
  "kernelspec": {
   "display_name": "Python 3",
   "language": "python",
   "name": "python3"
  },
  "language_info": {
   "codemirror_mode": {
    "name": "ipython",
    "version": 3
   },
   "file_extension": ".py",
   "mimetype": "text/x-python",
   "name": "python",
   "nbconvert_exporter": "python",
   "pygments_lexer": "ipython3",
   "version": "3.6.8"
  },
  "toc": {
   "base_numbering": 1,
   "nav_menu": {},
   "number_sections": true,
   "sideBar": true,
   "skip_h1_title": false,
   "title_cell": "Table of Contents",
   "title_sidebar": "Contents",
   "toc_cell": false,
   "toc_position": {},
   "toc_section_display": true,
   "toc_window_display": false
  },
  "varInspector": {
   "cols": {
    "lenName": 16,
    "lenType": 16,
    "lenVar": 40
   },
   "kernels_config": {
    "python": {
     "delete_cmd_postfix": "",
     "delete_cmd_prefix": "del ",
     "library": "var_list.py",
     "varRefreshCmd": "print(var_dic_list())"
    },
    "r": {
     "delete_cmd_postfix": ") ",
     "delete_cmd_prefix": "rm(",
     "library": "var_list.r",
     "varRefreshCmd": "cat(var_dic_list()) "
    }
   },
   "types_to_exclude": [
    "module",
    "function",
    "builtin_function_or_method",
    "instance",
    "_Feature"
   ],
   "window_display": false
  }
 },
 "nbformat": 4,
 "nbformat_minor": 4
}
